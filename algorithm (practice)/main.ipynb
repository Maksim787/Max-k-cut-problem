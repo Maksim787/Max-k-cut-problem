{
 "cells": [
  {
   "cell_type": "code",
   "execution_count": 1,
   "metadata": {},
   "outputs": [],
   "source": [
    "import pandas as pd\n",
    "import numpy as np\n",
    "import matplotlib.pyplot as plt\n",
    "import cartopy\n",
    "import cartopy.io.shapereader as shpreader\n",
    "import cartopy.crs as ccrs\n",
    "import random\n",
    "import os\n",
    "import time\n",
    "from collections import defaultdict"
   ]
  },
  {
   "cell_type": "code",
   "execution_count": 2,
   "metadata": {},
   "outputs": [],
   "source": [
    "df = pd.read_excel(\"Data/dist_data.xls\")\n",
    "df.loc[df['distw'] == '.', 'distw'] = np.nan\n",
    "df.loc[df['distwces'] == '.', 'distwces'] = np.nan\n",
    "df['distw'] = df['distw'].astype(float).fillna(df['distw'].mean())\n",
    "df['distwces'] = df['distwces'].astype(float).fillna(df['distwces'].mean())\n",
    "values = df.values\n",
    "col_to_ind = dict(zip(df.columns, range(len(df.columns))))"
   ]
  },
  {
   "cell_type": "code",
   "execution_count": 3,
   "metadata": {
    "scrolled": true
   },
   "outputs": [
    {
     "data": {
      "text/plain": [
       "iso_o            ABWABWABWABWABWABWABWABWABWABWABWABWABWABWABWA...\n",
       "iso_d            ABWAFGAGOAIAALBANDANTAREARGARMATGAUSAUTAZEBDIB...\n",
       "contig                                                         616\n",
       "comlang_off                                                   8750\n",
       "comlang_ethno                                                 8488\n",
       "colony                                                         482\n",
       "comcol                                                        5886\n",
       "curcol                                                          64\n",
       "col45                                                          312\n",
       "smctry                                                         401\n",
       "dist                                               425582766.87904\n",
       "distcap                                            425070853.17624\n",
       "distw                                             421113537.101565\n",
       "distwces                                          419985668.833861\n",
       "dtype: object"
      ]
     },
     "execution_count": 3,
     "metadata": {},
     "output_type": "execute_result"
    }
   ],
   "source": [
    "df.sum()"
   ]
  },
  {
   "cell_type": "code",
   "execution_count": 4,
   "metadata": {},
   "outputs": [
    {
     "data": {
      "text/plain": [
       "{'iso_o': 0,\n",
       " 'iso_d': 1,\n",
       " 'contig': 2,\n",
       " 'comlang_off': 3,\n",
       " 'comlang_ethno': 4,\n",
       " 'colony': 5,\n",
       " 'comcol': 6,\n",
       " 'curcol': 7,\n",
       " 'col45': 8,\n",
       " 'smctry': 9,\n",
       " 'dist': 10,\n",
       " 'distcap': 11,\n",
       " 'distw': 12,\n",
       " 'distwces': 13}"
      ]
     },
     "execution_count": 4,
     "metadata": {},
     "output_type": "execute_result"
    }
   ],
   "source": [
    "# Parameters\n",
    "k = 3\n",
    "stimul = -1\n",
    "cap_dist = False\n",
    "\n",
    "col_to_ind"
   ]
  },
  {
   "cell_type": "code",
   "execution_count": 5,
   "metadata": {},
   "outputs": [],
   "source": [
    "id_to_iso = list(set(df['iso_o']))\n",
    "n = len(id_to_iso)\n",
    "iso_to_id = {}\n",
    "for i, key in enumerate(id_to_iso):\n",
    "    iso_to_id[key] = i"
   ]
  },
  {
   "cell_type": "code",
   "execution_count": 6,
   "metadata": {},
   "outputs": [],
   "source": [
    "dist = np.array([[0.0] * n for i in range(n)])\n",
    "dists = []\n",
    "dist_indices = [10, 11, 12, 13] #[col_to_ind[x] for x in ['dist', 'distcap', 'distw', 'distwces']]\n",
    "for i in dist_indices:\n",
    "    values.T[i] = values.T[i] / values.T[i].max()\n",
    "dist_col = col_to_ind['dist']\n",
    "for i in df.index:\n",
    "    row = values[i]\n",
    "    one = row[0]\n",
    "    two = row[1]\n",
    "    if one != two:\n",
    "        # (1 − Contiguity[2]) + (1 − CommonColonizer[]) + GeodesicDistanceij + GeneticDistanceij +\n",
    "        # LinguisticDistanceij + ReligiousDistanceij\n",
    "        d = (1 - row[col_to_ind['contig']]) + (1 - row[col_to_ind['comcol']]) + \\\n",
    "        0.5 * row[col_to_ind['comlang_off']] + 0.5 * row[col_to_ind['comlang_ethno']]\n",
    "        if cap_dist:\n",
    "            d += row[10]\n",
    "        dist[iso_to_id[one]][iso_to_id[two]] = d\n",
    "        dists.append(d)\n",
    "dists = np.array(dists)\n",
    "dist = -dist\n",
    "for i in range(n):\n",
    "    dist[i][i] = 0"
   ]
  },
  {
   "cell_type": "code",
   "execution_count": 7,
   "metadata": {},
   "outputs": [],
   "source": [
    "def is_close(a, b):\n",
    "    return abs(a - b) < 1e-5\n",
    "\n",
    "for i in range(n):\n",
    "    for j in range(i):\n",
    "        try:\n",
    "            assert is_close(dist[i][j], dist[j][i])\n",
    "        except AssertionError:\n",
    "            print(i, j, dist[i][j], dist[j][i])\n",
    "            dist[i][j] = dist[j][i] = (dist[i][j] + dist[j][i]) / 2\n",
    "    assert dist[i][i] == 0\n",
    "with open(\"input.txt\", \"w\") as file:\n",
    "    print(n, k, file=file)\n",
    "    for i in range(n):\n",
    "        print(*dist[i], file=file)"
   ]
  },
  {
   "cell_type": "code",
   "execution_count": 8,
   "metadata": {},
   "outputs": [],
   "source": [
    "with open(\"output.txt\", \"w\") as file:\n",
    "    print('#', end='', file=file)\n",
    "time.sleep(0.1)\n",
    "\n",
    "simple = True\n",
    "\n",
    "if simple:\n",
    "    open_file = \"simple\"\n",
    "else:\n",
    "    open_file = \"difficult\"\n",
    "os.startfile(\"executable\\\\\" + open_file)\n",
    "\n",
    "while True:\n",
    "    time.sleep(0.1)\n",
    "    with open(\"output.txt\") as file:\n",
    "        s = file.readline().strip()\n",
    "        if s != \"#\":\n",
    "            break"
   ]
  },
  {
   "cell_type": "code",
   "execution_count": 9,
   "metadata": {},
   "outputs": [],
   "source": [
    "time.sleep(0.1)\n",
    "with open(\"output.txt\") as file:\n",
    "    id_to_coalition = list(map(int, file.readline().split()))"
   ]
  },
  {
   "cell_type": "code",
   "execution_count": 10,
   "metadata": {
    "pycharm": {
     "name": "#%%\n"
    }
   },
   "outputs": [
    {
     "name": "stdout",
     "output_type": "stream",
     "text": [
      "Used colors:\n",
      "(220, 190, 255)\n",
      "(145, 30, 180)\n",
      "(245, 130, 48)\n"
     ]
    },
    {
     "ename": "IndexError",
     "evalue": "list index out of range",
     "output_type": "error",
     "traceback": [
      "\u001b[1;31m---------------------------------------------------------------------------\u001b[0m",
      "\u001b[1;31mIndexError\u001b[0m                                Traceback (most recent call last)",
      "\u001b[1;32m<ipython-input-10-8e45168715c0>\u001b[0m in \u001b[0;36m<module>\u001b[1;34m\u001b[0m\n\u001b[0;32m     30\u001b[0m     \u001b[0miso_name\u001b[0m \u001b[1;33m=\u001b[0m \u001b[0mcountry\u001b[0m\u001b[1;33m.\u001b[0m\u001b[0mattributes\u001b[0m\u001b[1;33m[\u001b[0m\u001b[1;34m'ADM0_A3'\u001b[0m\u001b[1;33m]\u001b[0m\u001b[1;33m\u001b[0m\u001b[1;33m\u001b[0m\u001b[0m\n\u001b[0;32m     31\u001b[0m     \u001b[1;32mif\u001b[0m \u001b[0miso_name\u001b[0m \u001b[1;32min\u001b[0m \u001b[0miso_to_id\u001b[0m\u001b[1;33m:\u001b[0m\u001b[1;33m\u001b[0m\u001b[1;33m\u001b[0m\u001b[0m\n\u001b[1;32m---> 32\u001b[1;33m         \u001b[0mcolor\u001b[0m \u001b[1;33m=\u001b[0m \u001b[0mcolors\u001b[0m\u001b[1;33m[\u001b[0m\u001b[0mid_to_coalition\u001b[0m\u001b[1;33m[\u001b[0m\u001b[0miso_to_id\u001b[0m\u001b[1;33m[\u001b[0m\u001b[0miso_name\u001b[0m\u001b[1;33m]\u001b[0m\u001b[1;33m]\u001b[0m\u001b[1;33m]\u001b[0m\u001b[1;33m\u001b[0m\u001b[1;33m\u001b[0m\u001b[0m\n\u001b[0m\u001b[0;32m     33\u001b[0m     \u001b[1;32melse\u001b[0m\u001b[1;33m:\u001b[0m\u001b[1;33m\u001b[0m\u001b[1;33m\u001b[0m\u001b[0m\n\u001b[0;32m     34\u001b[0m         \u001b[0mcolor\u001b[0m \u001b[1;33m=\u001b[0m \u001b[1;33m(\u001b[0m\u001b[1;36m1\u001b[0m\u001b[1;33m,\u001b[0m \u001b[1;36m1\u001b[0m\u001b[1;33m,\u001b[0m \u001b[1;36m1\u001b[0m\u001b[1;33m)\u001b[0m\u001b[1;33m\u001b[0m\u001b[1;33m\u001b[0m\u001b[0m\n",
      "\u001b[1;31mIndexError\u001b[0m: list index out of range"
     ]
    },
    {
     "data": {
      "image/png": "[encoded data removed]",
      "text/plain": [
       "<Figure size 1200x800 with 1 Axes>"
      ]
     },
     "metadata": {
      "needs_background": "light"
     },
     "output_type": "display_data"
    }
   ],
   "source": [
    "colors = [(230, 25, 75), (60, 180, 75), (255, 225, 25), (0, 130, 200), (245, 130, 48),\n",
    "          (145, 30, 180), (70, 240, 240), (240, 50, 230), (210, 245, 60), (250, 190, 212),\n",
    "          (0, 128, 128), (220, 190, 255), (170, 110, 40), (255, 250, 200), (128, 0, 0),\n",
    "          (170, 255, 195), (128, 128, 0), (255, 215, 180), (0, 0, 128), (128, 128, 128)]\n",
    "random.shuffle(colors)\n",
    "good_colors = [(220, 190, 255),\n",
    "               (145, 30, 180),\n",
    "               (245, 130, 48),\n",
    "               (128, 128, 0),\n",
    "               (255, 250, 200)]\n",
    "for c in good_colors:\n",
    "    colors.remove(c)\n",
    "colors = good_colors + colors\n",
    "colors = [tuple(map(lambda x: x / 255, color)) for color in colors]\n",
    "while len(colors) < k:\n",
    "    colors.append((random.random(), random.random(), random.random()))\n",
    "print(\"Used colors:\")\n",
    "for i in range(k):\n",
    "    print(tuple(map(lambda x: round(x * 255), colors[i])))\n",
    "plt.figure(figsize=(15, 10), dpi=80)\n",
    "ax = plt.axes(projection=ccrs.PlateCarree())\n",
    "ax.set_extent([-150, 60, -25, 60])\n",
    "\n",
    "shpfilename = shpreader.natural_earth(resolution='110m',\n",
    "                                      category='cultural',\n",
    "                                      name='admin_0_countries')\n",
    "reader = shpreader.Reader(shpfilename)\n",
    "countries = reader.records()\n",
    "for country in countries:\n",
    "    iso_name = country.attributes['ADM0_A3']\n",
    "    if iso_name in iso_to_id:\n",
    "        color = colors[id_to_coalition[iso_to_id[iso_name]]]\n",
    "    else:\n",
    "        color = (1, 1, 1)\n",
    "    ax.add_geometries([country.geometry], ccrs.PlateCarree(),\n",
    "                      facecolor=color,\n",
    "                      label=country.attributes['ADM0_A3'])\n",
    "#                 print(f\"Нет никаких данных о стране {iso_name} в plot_output\")\n",
    "# ax.add_feature(cartopy.feature.LAND)\n",
    "ax.add_feature(cartopy.feature.OCEAN)\n",
    "# ax.add_feature(cartopy.feature.COASTLINE)\n",
    "ax.add_feature(cartopy.feature.BORDERS, linestyle='-', alpha=.5)\n",
    "ax.add_feature(cartopy.feature.LAKES, alpha=0.95)\n",
    "#         ax.add_feature(cartopy.feature.RIVERS)\n",
    "plt.show()"
   ]
  },
  {
   "cell_type": "code",
   "execution_count": null,
   "metadata": {},
   "outputs": [],
   "source": []
  }
 ],
 "metadata": {
  "kernelspec": {
   "display_name": "Python 3",
   "language": "python",
   "name": "python3"
  },
  "language_info": {
   "codemirror_mode": {
    "name": "ipython",
    "version": 3
   },
   "file_extension": ".py",
   "mimetype": "text/x-python",
   "name": "python",
   "nbconvert_exporter": "python",
   "pygments_lexer": "ipython3",
   "version": "3.8.8"
  }
 },
 "nbformat": 4,
 "nbformat_minor": 1
}
